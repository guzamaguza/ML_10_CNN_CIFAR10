{
 "cells": [
  {
   "cell_type": "markdown",
   "id": "e0cc41f4",
   "metadata": {},
   "source": [
    "CNN Example Using cifar-10 Dataset\n",
    "Mark Guza\n",
    "\n",
    "References:\n",
    "\n",
    "https://www.youtube.com/watch?v=7HPwo4wnJeA&t=108s\n",
    "\n"
   ]
  },
  {
   "cell_type": "code",
   "execution_count": 4,
   "id": "b3945b65",
   "metadata": {},
   "outputs": [],
   "source": [
    "import tensorflow as tf\n",
    "from tensorflow.keras import datasets, layers, models\n",
    "import matplotlib.pyplot as plt\n",
    "import numpy as np\n",
    "\n",
    "import ssl\n",
    "ssl._create_default_https_context = ssl._create_unverified_context"
   ]
  },
  {
   "cell_type": "markdown",
   "id": "0313e39c",
   "metadata": {},
   "source": [
    "Load the Dataset CIFAR-10"
   ]
  },
  {
   "cell_type": "code",
   "execution_count": 5,
   "id": "8ecf5231",
   "metadata": {},
   "outputs": [
    {
     "data": {
      "text/plain": [
       "(50000, 32, 32, 3)"
      ]
     },
     "execution_count": 5,
     "metadata": {},
     "output_type": "execute_result"
    }
   ],
   "source": [
    "(X_train, y_train), (X_test,y_test) = datasets.cifar10.load_data()\n",
    "X_train.shape"
   ]
  },
  {
   "cell_type": "code",
   "execution_count": 6,
   "id": "0fef3321",
   "metadata": {},
   "outputs": [
    {
     "data": {
      "text/plain": [
       "(10000, 32, 32, 3)"
      ]
     },
     "execution_count": 6,
     "metadata": {},
     "output_type": "execute_result"
    }
   ],
   "source": [
    "X_test.shape"
   ]
  },
  {
   "cell_type": "code",
   "execution_count": 7,
   "id": "d1a6750b",
   "metadata": {},
   "outputs": [
    {
     "data": {
      "text/plain": [
       "(50000, 1)"
      ]
     },
     "execution_count": 7,
     "metadata": {},
     "output_type": "execute_result"
    }
   ],
   "source": [
    "y_train.shape"
   ]
  },
  {
   "cell_type": "markdown",
   "id": "5618f041",
   "metadata": {},
   "source": [
    "y_train is a 2D array, but we can simplify to 1D array for classification purposes!!!!!!"
   ]
  },
  {
   "cell_type": "code",
   "execution_count": 8,
   "id": "1a37eecf",
   "metadata": {},
   "outputs": [
    {
     "data": {
      "text/plain": [
       "array([6, 9, 9, 4, 1], dtype=uint8)"
      ]
     },
     "execution_count": 8,
     "metadata": {},
     "output_type": "execute_result"
    }
   ],
   "source": [
    "y_train = y_train.reshape(-1,)\n",
    "y_train[:5]"
   ]
  },
  {
   "cell_type": "code",
   "execution_count": 10,
   "id": "c239942f",
   "metadata": {},
   "outputs": [
    {
     "data": {
      "text/plain": [
       "array([[[[ 59,  62,  63],\n",
       "         [ 43,  46,  45],\n",
       "         [ 50,  48,  43],\n",
       "         ...,\n",
       "         [158, 132, 108],\n",
       "         [152, 125, 102],\n",
       "         [148, 124, 103]],\n",
       "\n",
       "        [[ 16,  20,  20],\n",
       "         [  0,   0,   0],\n",
       "         [ 18,   8,   0],\n",
       "         ...,\n",
       "         [123,  88,  55],\n",
       "         [119,  83,  50],\n",
       "         [122,  87,  57]],\n",
       "\n",
       "        [[ 25,  24,  21],\n",
       "         [ 16,   7,   0],\n",
       "         [ 49,  27,   8],\n",
       "         ...,\n",
       "         [118,  84,  50],\n",
       "         [120,  84,  50],\n",
       "         [109,  73,  42]],\n",
       "\n",
       "        ...,\n",
       "\n",
       "        [[208, 170,  96],\n",
       "         [201, 153,  34],\n",
       "         [198, 161,  26],\n",
       "         ...,\n",
       "         [160, 133,  70],\n",
       "         [ 56,  31,   7],\n",
       "         [ 53,  34,  20]],\n",
       "\n",
       "        [[180, 139,  96],\n",
       "         [173, 123,  42],\n",
       "         [186, 144,  30],\n",
       "         ...,\n",
       "         [184, 148,  94],\n",
       "         [ 97,  62,  34],\n",
       "         [ 83,  53,  34]],\n",
       "\n",
       "        [[177, 144, 116],\n",
       "         [168, 129,  94],\n",
       "         [179, 142,  87],\n",
       "         ...,\n",
       "         [216, 184, 140],\n",
       "         [151, 118,  84],\n",
       "         [123,  92,  72]]],\n",
       "\n",
       "\n",
       "       [[[154, 177, 187],\n",
       "         [126, 137, 136],\n",
       "         [105, 104,  95],\n",
       "         ...,\n",
       "         [ 91,  95,  71],\n",
       "         [ 87,  90,  71],\n",
       "         [ 79,  81,  70]],\n",
       "\n",
       "        [[140, 160, 169],\n",
       "         [145, 153, 154],\n",
       "         [125, 125, 118],\n",
       "         ...,\n",
       "         [ 96,  99,  78],\n",
       "         [ 77,  80,  62],\n",
       "         [ 71,  73,  61]],\n",
       "\n",
       "        [[140, 155, 164],\n",
       "         [139, 146, 149],\n",
       "         [115, 115, 112],\n",
       "         ...,\n",
       "         [ 79,  82,  64],\n",
       "         [ 68,  70,  55],\n",
       "         [ 67,  69,  55]],\n",
       "\n",
       "        ...,\n",
       "\n",
       "        [[175, 167, 166],\n",
       "         [156, 154, 160],\n",
       "         [154, 160, 170],\n",
       "         ...,\n",
       "         [ 42,  34,  36],\n",
       "         [ 61,  53,  57],\n",
       "         [ 93,  83,  91]],\n",
       "\n",
       "        [[165, 154, 128],\n",
       "         [156, 152, 130],\n",
       "         [159, 161, 142],\n",
       "         ...,\n",
       "         [103,  93,  96],\n",
       "         [123, 114, 120],\n",
       "         [131, 121, 131]],\n",
       "\n",
       "        [[163, 148, 120],\n",
       "         [158, 148, 122],\n",
       "         [163, 156, 133],\n",
       "         ...,\n",
       "         [143, 133, 139],\n",
       "         [143, 134, 142],\n",
       "         [143, 133, 144]]],\n",
       "\n",
       "\n",
       "       [[[255, 255, 255],\n",
       "         [253, 253, 253],\n",
       "         [253, 253, 253],\n",
       "         ...,\n",
       "         [253, 253, 253],\n",
       "         [253, 253, 253],\n",
       "         [253, 253, 253]],\n",
       "\n",
       "        [[255, 255, 255],\n",
       "         [255, 255, 255],\n",
       "         [255, 255, 255],\n",
       "         ...,\n",
       "         [255, 255, 255],\n",
       "         [255, 255, 255],\n",
       "         [255, 255, 255]],\n",
       "\n",
       "        [[255, 255, 255],\n",
       "         [254, 254, 254],\n",
       "         [254, 254, 254],\n",
       "         ...,\n",
       "         [254, 254, 254],\n",
       "         [254, 254, 254],\n",
       "         [254, 254, 254]],\n",
       "\n",
       "        ...,\n",
       "\n",
       "        [[113, 120, 112],\n",
       "         [111, 118, 111],\n",
       "         [105, 112, 106],\n",
       "         ...,\n",
       "         [ 72,  81,  80],\n",
       "         [ 72,  80,  79],\n",
       "         [ 72,  80,  79]],\n",
       "\n",
       "        [[111, 118, 110],\n",
       "         [104, 111, 104],\n",
       "         [ 99, 106,  98],\n",
       "         ...,\n",
       "         [ 68,  75,  73],\n",
       "         [ 70,  76,  75],\n",
       "         [ 78,  84,  82]],\n",
       "\n",
       "        [[106, 113, 105],\n",
       "         [ 99, 106,  98],\n",
       "         [ 95, 102,  94],\n",
       "         ...,\n",
       "         [ 78,  85,  83],\n",
       "         [ 79,  85,  83],\n",
       "         [ 80,  86,  84]]],\n",
       "\n",
       "\n",
       "       [[[ 28,  25,  10],\n",
       "         [ 37,  34,  19],\n",
       "         [ 38,  35,  20],\n",
       "         ...,\n",
       "         [ 76,  67,  39],\n",
       "         [ 81,  72,  43],\n",
       "         [ 85,  76,  47]],\n",
       "\n",
       "        [[ 33,  28,  13],\n",
       "         [ 34,  30,  14],\n",
       "         [ 32,  27,  12],\n",
       "         ...,\n",
       "         [ 95,  82,  55],\n",
       "         [ 96,  82,  56],\n",
       "         [ 85,  72,  45]],\n",
       "\n",
       "        [[ 39,  32,  15],\n",
       "         [ 40,  33,  17],\n",
       "         [ 57,  50,  33],\n",
       "         ...,\n",
       "         [ 93,  76,  52],\n",
       "         [107,  89,  66],\n",
       "         [ 95,  77,  54]],\n",
       "\n",
       "        ...,\n",
       "\n",
       "        [[ 83,  73,  52],\n",
       "         [ 87,  77,  56],\n",
       "         [ 84,  74,  52],\n",
       "         ...,\n",
       "         [ 99,  93,  70],\n",
       "         [ 90,  84,  61],\n",
       "         [ 81,  75,  52]],\n",
       "\n",
       "        [[ 88,  72,  51],\n",
       "         [ 90,  74,  52],\n",
       "         [ 93,  77,  56],\n",
       "         ...,\n",
       "         [ 80,  74,  53],\n",
       "         [ 76,  70,  49],\n",
       "         [ 82,  76,  55]],\n",
       "\n",
       "        [[ 97,  78,  56],\n",
       "         [ 94,  75,  53],\n",
       "         [ 93,  75,  53],\n",
       "         ...,\n",
       "         [ 54,  47,  28],\n",
       "         [ 63,  56,  37],\n",
       "         [ 72,  65,  46]]],\n",
       "\n",
       "\n",
       "       [[[170, 180, 198],\n",
       "         [168, 178, 196],\n",
       "         [177, 185, 203],\n",
       "         ...,\n",
       "         [162, 179, 215],\n",
       "         [158, 178, 214],\n",
       "         [157, 177, 212]],\n",
       "\n",
       "        [[168, 181, 198],\n",
       "         [172, 185, 201],\n",
       "         [171, 183, 200],\n",
       "         ...,\n",
       "         [159, 177, 212],\n",
       "         [156, 176, 211],\n",
       "         [154, 174, 209]],\n",
       "\n",
       "        [[154, 170, 186],\n",
       "         [149, 165, 181],\n",
       "         [129, 144, 162],\n",
       "         ...,\n",
       "         [161, 178, 214],\n",
       "         [157, 177, 212],\n",
       "         [154, 174, 209]],\n",
       "\n",
       "        ...,\n",
       "\n",
       "        [[ 74,  84,  80],\n",
       "         [ 76,  85,  81],\n",
       "         [ 78,  85,  82],\n",
       "         ...,\n",
       "         [ 71,  75,  78],\n",
       "         [ 68,  72,  75],\n",
       "         [ 61,  65,  68]],\n",
       "\n",
       "        [[ 68,  76,  77],\n",
       "         [ 69,  77,  78],\n",
       "         [ 72,  79,  78],\n",
       "         ...,\n",
       "         [ 76,  80,  83],\n",
       "         [ 71,  75,  78],\n",
       "         [ 71,  75,  78]],\n",
       "\n",
       "        [[ 67,  75,  78],\n",
       "         [ 68,  76,  79],\n",
       "         [ 69,  75,  76],\n",
       "         ...,\n",
       "         [ 75,  79,  82],\n",
       "         [ 71,  75,  78],\n",
       "         [ 73,  77,  80]]]], dtype=uint8)"
      ]
     },
     "execution_count": 10,
     "metadata": {},
     "output_type": "execute_result"
    }
   ],
   "source": [
    "X_train[:5]"
   ]
  },
  {
   "cell_type": "code",
   "execution_count": 18,
   "id": "90b8628d",
   "metadata": {},
   "outputs": [],
   "source": [
    "#List all Categories\n",
    "classes = [\"airplane\",\"automobile\",\"bird\",\"cat\",\"deer\",\"dog\",\"frog\",\"horse\",\"ship\",\"truck\"]"
   ]
  },
  {
   "cell_type": "code",
   "execution_count": 19,
   "id": "65cca528",
   "metadata": {},
   "outputs": [],
   "source": [
    "def plot_sample(X, y, index):\n",
    "    plt.figure(figsize = (15,2))\n",
    "    plt.imshow(X[index])\n",
    "    plt.xlabel(classes[y[index]])"
   ]
  },
  {
   "cell_type": "code",
   "execution_count": 24,
   "id": "5d496129",
   "metadata": {},
   "outputs": [
    {
     "data": {
      "image/png": "[encoded data removed]",
      "text/plain": [
       "<Figure size 1080x144 with 1 Axes>"
      ]
     },
     "metadata": {
      "needs_background": "light"
     },
     "output_type": "display_data"
    }
   ],
   "source": [
    "#Plot an example image from the dataset\n",
    "plot_sample(X_train, y_train, 5)"
   ]
  },
  {
   "cell_type": "code",
   "execution_count": 25,
   "id": "356e3395",
   "metadata": {},
   "outputs": [],
   "source": [
    "#Normalize the training data \n",
    "\n",
    "X_train = X_train / 255.0\n",
    "X_test = X_test / 255.0"
   ]
  },
  {
   "cell_type": "markdown",
   "id": "64c706c1",
   "metadata": {},
   "source": [
    "Build a Simple Artificial Neural Network (ANN) to Classify the Images"
   ]
  },
  {
   "cell_type": "code",
   "execution_count": 26,
   "id": "c77c1f00",
   "metadata": {},
   "outputs": [
    {
     "name": "stdout",
     "output_type": "stream",
     "text": [
      "Epoch 1/5\n",
      "1563/1563 [==============================] - 51s 32ms/step - loss: 1.8117 - accuracy: 0.3563\n",
      "Epoch 2/5\n",
      "1563/1563 [==============================] - 58s 37ms/step - loss: 1.6266 - accuracy: 0.4241\n",
      "Epoch 3/5\n",
      "1563/1563 [==============================] - 56s 36ms/step - loss: 1.5447 - accuracy: 0.4560\n",
      "Epoch 4/5\n",
      "1563/1563 [==============================] - 58s 37ms/step - loss: 1.4837 - accuracy: 0.4792\n",
      "Epoch 5/5\n",
      "1563/1563 [==============================] - 54s 35ms/step - loss: 1.4328 - accuracy: 0.4958\n"
     ]
    },
    {
     "data": {
      "text/plain": [
       "<keras.callbacks.History at 0x2a9ad276e50>"
      ]
     },
     "execution_count": 26,
     "metadata": {},
     "output_type": "execute_result"
    }
   ],
   "source": [
    "#Build the ann network\n",
    "\n",
    "ann = models.Sequential([\n",
    "        layers.Flatten(input_shape=(32,32,3)),\n",
    "        layers.Dense(3000, activation='relu'),\n",
    "        layers.Dense(1000, activation='relu'),\n",
    "        layers.Dense(10, activation='softmax')    \n",
    "    ])\n",
    "\n",
    "ann.compile(optimizer='SGD',\n",
    "              loss='sparse_categorical_crossentropy',\n",
    "              metrics=['accuracy'])\n",
    "\n",
    "ann.fit(X_train, y_train, epochs=5)"
   ]
  },
  {
   "cell_type": "code",
   "execution_count": 27,
   "id": "1f78f65e",
   "metadata": {},
   "outputs": [
    {
     "name": "stdout",
     "output_type": "stream",
     "text": [
      "Classification Report: \n",
      "               precision    recall  f1-score   support\n",
      "\n",
      "           0       0.42      0.64      0.51      1000\n",
      "           1       0.57      0.58      0.57      1000\n",
      "           2       0.49      0.16      0.24      1000\n",
      "           3       0.34      0.45      0.38      1000\n",
      "           4       0.50      0.34      0.41      1000\n",
      "           5       0.50      0.25      0.33      1000\n",
      "           6       0.45      0.65      0.53      1000\n",
      "           7       0.64      0.43      0.52      1000\n",
      "           8       0.43      0.74      0.54      1000\n",
      "           9       0.56      0.44      0.49      1000\n",
      "\n",
      "    accuracy                           0.47     10000\n",
      "   macro avg       0.49      0.47      0.45     10000\n",
      "weighted avg       0.49      0.47      0.45     10000\n",
      "\n"
     ]
    }
   ],
   "source": [
    "#Run some metrics \n",
    "from sklearn.metrics import confusion_matrix , classification_report\n",
    "import numpy as np\n",
    "y_pred = ann.predict(X_test)\n",
    "y_pred_classes = [np.argmax(element) for element in y_pred]\n",
    "\n",
    "print(\"Classification Report: \\n\", classification_report(y_test, y_pred_classes))"
   ]
  },
  {
   "cell_type": "markdown",
   "id": "80ba4c4d",
   "metadata": {},
   "source": [
    "Build A Convolutional Neural Network (CNN) to Classify the Images "
   ]
  },
  {
   "cell_type": "code",
   "execution_count": 32,
   "id": "ba6a4ca0",
   "metadata": {},
   "outputs": [
    {
     "name": "stdout",
     "output_type": "stream",
     "text": [
      "Epoch 1/10\n",
      "1563/1563 [==============================] - 30s 19ms/step - loss: 1.4974 - accuracy: 0.4619\n",
      "Epoch 2/10\n",
      "1563/1563 [==============================] - 29s 19ms/step - loss: 1.1177 - accuracy: 0.6089\n",
      "Epoch 3/10\n",
      "1563/1563 [==============================] - 30s 19ms/step - loss: 0.9944 - accuracy: 0.6559\n",
      "Epoch 4/10\n",
      "1563/1563 [==============================] - 32s 20ms/step - loss: 0.9179 - accuracy: 0.6819\n",
      "Epoch 5/10\n",
      "1563/1563 [==============================] - 31s 20ms/step - loss: 0.8643 - accuracy: 0.6966\n",
      "Epoch 6/10\n",
      "1563/1563 [==============================] - 30s 19ms/step - loss: 0.8102 - accuracy: 0.7200\n",
      "Epoch 7/10\n",
      "1563/1563 [==============================] - 32s 20ms/step - loss: 0.7748 - accuracy: 0.7309\n",
      "Epoch 8/10\n",
      "1563/1563 [==============================] - 31s 20ms/step - loss: 0.7298 - accuracy: 0.7463\n",
      "Epoch 9/10\n",
      "1563/1563 [==============================] - 29s 19ms/step - loss: 0.6949 - accuracy: 0.7578\n",
      "Epoch 10/10\n",
      "1563/1563 [==============================] - 29s 19ms/step - loss: 0.6627 - accuracy: 0.7684\n"
     ]
    },
    {
     "data": {
      "text/plain": [
       "<keras.callbacks.History at 0x2a990956f10>"
      ]
     },
     "execution_count": 32,
     "metadata": {},
     "output_type": "execute_result"
    }
   ],
   "source": [
    "cnn = models.Sequential([\n",
    "    layers.Conv2D(filters=32, kernel_size=(3, 3), activation='relu', input_shape=(32, 32, 3)),\n",
    "    layers.MaxPooling2D((2, 2)),\n",
    "    \n",
    "    layers.Conv2D(filters=64, kernel_size=(3, 3), activation='relu'),\n",
    "    layers.MaxPooling2D((2, 2)),\n",
    "    \n",
    "    layers.Flatten(),\n",
    "    layers.Dense(64, activation='relu'),\n",
    "    layers.Dense(10, activation='softmax')\n",
    "])\n",
    "\n",
    "cnn.compile(optimizer='adam',\n",
    "              loss='sparse_categorical_crossentropy',\n",
    "              metrics=['accuracy'])\n",
    "\n",
    "cnn.fit(X_train, y_train, epochs=10)"
   ]
  },
  {
   "cell_type": "code",
   "execution_count": 33,
   "id": "47c2df3d",
   "metadata": {},
   "outputs": [
    {
     "name": "stdout",
     "output_type": "stream",
     "text": [
      "313/313 [==============================] - 3s 8ms/step - loss: 0.9095 - accuracy: 0.7061\n"
     ]
    },
    {
     "data": {
      "text/plain": [
       "[0.909492552280426, 0.7060999870300293]"
      ]
     },
     "execution_count": 33,
     "metadata": {},
     "output_type": "execute_result"
    }
   ],
   "source": [
    "#Run some metrics\n",
    "cnn.evaluate(X_test,y_test)"
   ]
  },
  {
   "cell_type": "code",
   "execution_count": 39,
   "id": "a65358f7",
   "metadata": {},
   "outputs": [
    {
     "data": {
      "text/plain": [
       "[3]"
      ]
     },
     "execution_count": 39,
     "metadata": {},
     "output_type": "execute_result"
    }
   ],
   "source": [
    "#Look at the predicted values from the test set\n",
    "y_pred = cnn.predict(X_test)\n",
    "y_pred[:1]\n",
    "y_classes = [np.argmax(element) for element in y_pred]\n",
    "y_classes[:1]"
   ]
  },
  {
   "cell_type": "code",
   "execution_count": 45,
   "id": "fced61c0",
   "metadata": {},
   "outputs": [
    {
     "data": {
      "text/plain": [
       "array([[3],\n",
       "       [8],\n",
       "       [8]], dtype=uint8)"
      ]
     },
     "execution_count": 45,
     "metadata": {},
     "output_type": "execute_result"
    }
   ],
   "source": [
    "y_test[:3]"
   ]
  },
  {
   "cell_type": "code",
   "execution_count": 51,
   "id": "7cf2c585",
   "metadata": {},
   "outputs": [
    {
     "ename": "TypeError",
     "evalue": "only integer scalar arrays can be converted to a scalar index",
     "output_type": "error",
     "traceback": [
      "\u001b[1;31m---------------------------------------------------------------------------\u001b[0m",
      "\u001b[1;31mTypeError\u001b[0m                                 Traceback (most recent call last)",
      "\u001b[1;32m<ipython-input-51-2e45f94cc87e>\u001b[0m in \u001b[0;36m<module>\u001b[1;34m\u001b[0m\n\u001b[1;32m----> 1\u001b[1;33m \u001b[0mplot_sample\u001b[0m\u001b[1;33m(\u001b[0m\u001b[0mX_test\u001b[0m\u001b[1;33m,\u001b[0m \u001b[0my_test\u001b[0m\u001b[1;33m,\u001b[0m\u001b[1;36m1\u001b[0m\u001b[1;33m)\u001b[0m\u001b[1;33m\u001b[0m\u001b[1;33m\u001b[0m\u001b[0m\n\u001b[0m",
      "\u001b[1;32m<ipython-input-19-73f4cf12957f>\u001b[0m in \u001b[0;36mplot_sample\u001b[1;34m(X, y, index)\u001b[0m\n\u001b[0;32m      2\u001b[0m     \u001b[0mplt\u001b[0m\u001b[1;33m.\u001b[0m\u001b[0mfigure\u001b[0m\u001b[1;33m(\u001b[0m\u001b[0mfigsize\u001b[0m \u001b[1;33m=\u001b[0m \u001b[1;33m(\u001b[0m\u001b[1;36m15\u001b[0m\u001b[1;33m,\u001b[0m\u001b[1;36m2\u001b[0m\u001b[1;33m)\u001b[0m\u001b[1;33m)\u001b[0m\u001b[1;33m\u001b[0m\u001b[1;33m\u001b[0m\u001b[0m\n\u001b[0;32m      3\u001b[0m     \u001b[0mplt\u001b[0m\u001b[1;33m.\u001b[0m\u001b[0mimshow\u001b[0m\u001b[1;33m(\u001b[0m\u001b[0mX\u001b[0m\u001b[1;33m[\u001b[0m\u001b[0mindex\u001b[0m\u001b[1;33m]\u001b[0m\u001b[1;33m)\u001b[0m\u001b[1;33m\u001b[0m\u001b[1;33m\u001b[0m\u001b[0m\n\u001b[1;32m----> 4\u001b[1;33m     \u001b[0mplt\u001b[0m\u001b[1;33m.\u001b[0m\u001b[0mxlabel\u001b[0m\u001b[1;33m(\u001b[0m\u001b[0mclasses\u001b[0m\u001b[1;33m[\u001b[0m\u001b[0my\u001b[0m\u001b[1;33m[\u001b[0m\u001b[0mindex\u001b[0m\u001b[1;33m]\u001b[0m\u001b[1;33m]\u001b[0m\u001b[1;33m)\u001b[0m\u001b[1;33m\u001b[0m\u001b[1;33m\u001b[0m\u001b[0m\n\u001b[0m",
      "\u001b[1;31mTypeError\u001b[0m: only integer scalar arrays can be converted to a scalar index"
     ]
    },
    {
     "data": {
      "image/png": "[encoded data removed]",
      "text/plain": [
       "<Figure size 1080x144 with 1 Axes>"
      ]
     },
     "metadata": {
      "needs_background": "light"
     },
     "output_type": "display_data"
    }
   ],
   "source": [
    "plot_sample(X_test, y_test,1)"
   ]
  },
  {
   "cell_type": "code",
   "execution_count": 50,
   "id": "d46bff6f",
   "metadata": {},
   "outputs": [
    {
     "data": {
      "text/plain": [
       "'ship'"
      ]
     },
     "execution_count": 50,
     "metadata": {},
     "output_type": "execute_result"
    }
   ],
   "source": [
    "classes[y_classes[1]]"
   ]
  },
  {
   "cell_type": "code",
   "execution_count": null,
   "id": "3f695b17",
   "metadata": {},
   "outputs": [],
   "source": []
  }
 ],
 "metadata": {
  "kernelspec": {
   "display_name": "Python 3",
   "language": "python",
   "name": "python3"
  },
  "language_info": {
   "codemirror_mode": {
    "name": "ipython",
    "version": 3
   },
   "file_extension": ".py",
   "mimetype": "text/x-python",
   "name": "python",
   "nbconvert_exporter": "python",
   "pygments_lexer": "ipython3",
   "version": "3.8.8"
  }
 },
 "nbformat": 4,
 "nbformat_minor": 5
}
